{
 "cells": [
  {
   "cell_type": "code",
   "execution_count": 2,
   "id": "306759ac-5e3d-4df5-8534-370a7a9849d8",
   "metadata": {},
   "outputs": [],
   "source": [
    "import numpy as np\n",
    "import pandas as pd\n",
    "import matplotlib.pyplot as plt\n",
    "from sklearn.metrics import classification_report, roc_auc_score, confusion_matrix\n",
    "import tensorflow as tf\n",
    "from tensorflow.keras.applications import MobileNetV2\n",
    "from tensorflow.keras.models import Sequential\n",
    "from tensorflow.keras.layers import Dense, GlobalAveragePooling2D\n",
    "from tensorflow.keras.preprocessing.image import ImageDataGenerator\n",
    "import os\n",
    "from PIL import Image\n",
    "from keras.preprocessing.image import load_img, img_to_array"
   ]
  },
  {
   "cell_type": "markdown",
   "id": "182cd7c0-41d3-40d1-8d75-ef1fc6beebba",
   "metadata": {},
   "source": [
    "**Read dataset**"
   ]
  },
  {
   "cell_type": "code",
   "execution_count": 2,
   "id": "60223353-74bb-4910-9fae-3f128c1f92e8",
   "metadata": {},
   "outputs": [],
   "source": [
    "filtered_clothing = pd.read_csv('../../filtered_clothing_dataset.csv')"
   ]
  },
  {
   "cell_type": "markdown",
   "id": "f177a42f-978c-44e1-9861-0515416513cd",
   "metadata": {},
   "source": [
    "**Split dataset in training and testing set**"
   ]
  },
  {
   "cell_type": "code",
   "execution_count": 3,
   "id": "d8bb0344-d32f-4fe6-8eb3-0171f051bf36",
   "metadata": {},
   "outputs": [],
   "source": [
    "eighty_pct = int(0.8*len(filtered_clothing))\n",
    "  \n",
    "train_set = filtered_clothing.iloc[:(eighty_pct-1), :] \n",
    "test_set = filtered_clothing.iloc[eighty_pct:, :] \n",
    "  \n",
    "train_set.to_csv(\"train_data.csv\", index=False)\n",
    "test_set.to_csv(\"test_data.csv\", index=False)"
   ]
  },
  {
   "cell_type": "markdown",
   "id": "f70de0f3-875c-4864-91bf-2b62d1c3bd5c",
   "metadata": {},
   "source": [
    "**Loading the dataset**"
   ]
  },
  {
   "cell_type": "code",
   "execution_count": 4,
   "id": "8638e911-f78c-4de2-93ca-db1d62bf0a1e",
   "metadata": {},
   "outputs": [],
   "source": [
    "train_data = pd.read_csv('train_data.csv')\n",
    "test_data = pd.read_csv('test_data.csv')"
   ]
  },
  {
   "cell_type": "code",
   "execution_count": 5,
   "id": "693fff05-e961-497c-b286-9a1fb07bb0f3",
   "metadata": {},
   "outputs": [
    {
     "name": "stdout",
     "output_type": "stream",
     "text": [
      "Found 22344 validated image filenames belonging to 5 classes.\n",
      "Found 5587 validated image filenames belonging to 5 classes.\n"
     ]
    }
   ],
   "source": [
    "# image dimensions and batch size\n",
    "img_width, img_height = 224, 224\n",
    "batch_size = 32\n",
    "\n",
    "# data generators for training and validation\n",
    "train_datagen = ImageDataGenerator(rescale=1./255,\n",
    "                                   shear_range=0.2,\n",
    "                                   zoom_range=0.2,\n",
    "                                   horizontal_flip=True)\n",
    "\n",
    "test_datagen = ImageDataGenerator(rescale=1./255)\n",
    "\n",
    "train_data['id'] = train_data['id'].astype(str) + '.jpg'\n",
    "test_data['id'] = test_data['id'].astype(str) + '.jpg'\n",
    "\n",
    "train_generator = train_datagen.flow_from_dataframe(\n",
    "    dataframe=train_data,\n",
    "    directory='../../filtered_images',\n",
    "    x_col=\"id\",\n",
    "    y_col=\"subCategory\",\n",
    "    target_size=(img_width, img_height),\n",
    "    batch_size=batch_size,\n",
    "    class_mode='categorical',\n",
    "    shuffle=True) \n",
    "\n",
    "test_generator = test_datagen.flow_from_dataframe(\n",
    "    dataframe=test_data,\n",
    "    directory='../../filtered_images',\n",
    "    x_col=\"id\",\n",
    "    y_col=\"subCategory\",\n",
    "    target_size=(img_width, img_height),\n",
    "    batch_size=batch_size,\n",
    "    class_mode='categorical',\n",
    "    shuffle=False)"
   ]
  },
  {
   "cell_type": "markdown",
   "id": "a5f8519d-078e-4143-b928-c78bc5615ba8",
   "metadata": {},
   "source": [
    "**Loading the MobileNetV2 pretrained model**"
   ]
  },
  {
   "cell_type": "code",
   "execution_count": 6,
   "id": "b5f72165-eb80-48fa-83d1-debee178a9f8",
   "metadata": {},
   "outputs": [],
   "source": [
    "base_model = MobileNetV2(weights='imagenet', include_top=False, input_shape=(img_width, img_height, 3))\n",
    "base_model.trainable = False"
   ]
  },
  {
   "cell_type": "markdown",
   "id": "7f190444-8203-4d9f-959d-80223b874035",
   "metadata": {},
   "source": [
    "**Adding custom classification head on top of MobileNetV2**"
   ]
  },
  {
   "cell_type": "code",
   "execution_count": 7,
   "id": "8a23bab9-7e0d-4168-bc3d-67d3ef83b00c",
   "metadata": {},
   "outputs": [],
   "source": [
    "model = Sequential([\n",
    "    base_model,\n",
    "    GlobalAveragePooling2D(),\n",
    "    Dense(5, activation='softmax')  # 5 main categories in the dataset\n",
    "])"
   ]
  },
  {
   "cell_type": "markdown",
   "id": "4d119b54-59d6-4deb-b09f-dc8fc471de92",
   "metadata": {},
   "source": [
    "**Compiling the model**"
   ]
  },
  {
   "cell_type": "code",
   "execution_count": 8,
   "id": "c9cef103-768c-483e-b263-d0a478d6567e",
   "metadata": {},
   "outputs": [
    {
     "data": {
      "text/html": [
       "<pre style=\"white-space:pre;overflow-x:auto;line-height:normal;font-family:Menlo,'DejaVu Sans Mono',consolas,'Courier New',monospace\"><span style=\"font-weight: bold\">Model: \"sequential\"</span>\n",
       "</pre>\n"
      ],
      "text/plain": [
       "\u001b[1mModel: \"sequential\"\u001b[0m\n"
      ]
     },
     "metadata": {},
     "output_type": "display_data"
    },
    {
     "data": {
      "text/html": [
       "<pre style=\"white-space:pre;overflow-x:auto;line-height:normal;font-family:Menlo,'DejaVu Sans Mono',consolas,'Courier New',monospace\">┏━━━━━━━━━━━━━━━━━━━━━━━━━━━━━━━━━━━━━━┳━━━━━━━━━━━━━━━━━━━━━━━━━━━━━┳━━━━━━━━━━━━━━━━━┓\n",
       "┃<span style=\"font-weight: bold\"> Layer (type)                         </span>┃<span style=\"font-weight: bold\"> Output Shape                </span>┃<span style=\"font-weight: bold\">         Param # </span>┃\n",
       "┡━━━━━━━━━━━━━━━━━━━━━━━━━━━━━━━━━━━━━━╇━━━━━━━━━━━━━━━━━━━━━━━━━━━━━╇━━━━━━━━━━━━━━━━━┩\n",
       "│ mobilenetv2_1.00_224 (<span style=\"color: #0087ff; text-decoration-color: #0087ff\">Functional</span>)    │ ?                           │       <span style=\"color: #00af00; text-decoration-color: #00af00\">2,257,984</span> │\n",
       "├──────────────────────────────────────┼─────────────────────────────┼─────────────────┤\n",
       "│ global_average_pooling2d             │ ?                           │     <span style=\"color: #00af00; text-decoration-color: #00af00\">0</span> (unbuilt) │\n",
       "│ (<span style=\"color: #0087ff; text-decoration-color: #0087ff\">GlobalAveragePooling2D</span>)             │                             │                 │\n",
       "├──────────────────────────────────────┼─────────────────────────────┼─────────────────┤\n",
       "│ dense (<span style=\"color: #0087ff; text-decoration-color: #0087ff\">Dense</span>)                        │ ?                           │     <span style=\"color: #00af00; text-decoration-color: #00af00\">0</span> (unbuilt) │\n",
       "└──────────────────────────────────────┴─────────────────────────────┴─────────────────┘\n",
       "</pre>\n"
      ],
      "text/plain": [
       "┏━━━━━━━━━━━━━━━━━━━━━━━━━━━━━━━━━━━━━━┳━━━━━━━━━━━━━━━━━━━━━━━━━━━━━┳━━━━━━━━━━━━━━━━━┓\n",
       "┃\u001b[1m \u001b[0m\u001b[1mLayer (type)                        \u001b[0m\u001b[1m \u001b[0m┃\u001b[1m \u001b[0m\u001b[1mOutput Shape               \u001b[0m\u001b[1m \u001b[0m┃\u001b[1m \u001b[0m\u001b[1m        Param #\u001b[0m\u001b[1m \u001b[0m┃\n",
       "┡━━━━━━━━━━━━━━━━━━━━━━━━━━━━━━━━━━━━━━╇━━━━━━━━━━━━━━━━━━━━━━━━━━━━━╇━━━━━━━━━━━━━━━━━┩\n",
       "│ mobilenetv2_1.00_224 (\u001b[38;5;33mFunctional\u001b[0m)    │ ?                           │       \u001b[38;5;34m2,257,984\u001b[0m │\n",
       "├──────────────────────────────────────┼─────────────────────────────┼─────────────────┤\n",
       "│ global_average_pooling2d             │ ?                           │     \u001b[38;5;34m0\u001b[0m (unbuilt) │\n",
       "│ (\u001b[38;5;33mGlobalAveragePooling2D\u001b[0m)             │                             │                 │\n",
       "├──────────────────────────────────────┼─────────────────────────────┼─────────────────┤\n",
       "│ dense (\u001b[38;5;33mDense\u001b[0m)                        │ ?                           │     \u001b[38;5;34m0\u001b[0m (unbuilt) │\n",
       "└──────────────────────────────────────┴─────────────────────────────┴─────────────────┘\n"
      ]
     },
     "metadata": {},
     "output_type": "display_data"
    },
    {
     "data": {
      "text/html": [
       "<pre style=\"white-space:pre;overflow-x:auto;line-height:normal;font-family:Menlo,'DejaVu Sans Mono',consolas,'Courier New',monospace\"><span style=\"font-weight: bold\"> Total params: </span><span style=\"color: #00af00; text-decoration-color: #00af00\">2,257,984</span> (8.61 MB)\n",
       "</pre>\n"
      ],
      "text/plain": [
       "\u001b[1m Total params: \u001b[0m\u001b[38;5;34m2,257,984\u001b[0m (8.61 MB)\n"
      ]
     },
     "metadata": {},
     "output_type": "display_data"
    },
    {
     "data": {
      "text/html": [
       "<pre style=\"white-space:pre;overflow-x:auto;line-height:normal;font-family:Menlo,'DejaVu Sans Mono',consolas,'Courier New',monospace\"><span style=\"font-weight: bold\"> Trainable params: </span><span style=\"color: #00af00; text-decoration-color: #00af00\">0</span> (0.00 B)\n",
       "</pre>\n"
      ],
      "text/plain": [
       "\u001b[1m Trainable params: \u001b[0m\u001b[38;5;34m0\u001b[0m (0.00 B)\n"
      ]
     },
     "metadata": {},
     "output_type": "display_data"
    },
    {
     "data": {
      "text/html": [
       "<pre style=\"white-space:pre;overflow-x:auto;line-height:normal;font-family:Menlo,'DejaVu Sans Mono',consolas,'Courier New',monospace\"><span style=\"font-weight: bold\"> Non-trainable params: </span><span style=\"color: #00af00; text-decoration-color: #00af00\">2,257,984</span> (8.61 MB)\n",
       "</pre>\n"
      ],
      "text/plain": [
       "\u001b[1m Non-trainable params: \u001b[0m\u001b[38;5;34m2,257,984\u001b[0m (8.61 MB)\n"
      ]
     },
     "metadata": {},
     "output_type": "display_data"
    }
   ],
   "source": [
    "model.compile(optimizer='adam',\n",
    "              loss='categorical_crossentropy',\n",
    "              metrics=['accuracy'])\n",
    "\n",
    "model.summary()"
   ]
  },
  {
   "cell_type": "markdown",
   "id": "49fb60c7-0a2d-4f3d-8b04-e8dcde56277f",
   "metadata": {},
   "source": [
    "**Model training**"
   ]
  },
  {
   "cell_type": "code",
   "execution_count": 9,
   "id": "074a915d-7055-4445-8771-d8f7b6ee649c",
   "metadata": {},
   "outputs": [
    {
     "name": "stdout",
     "output_type": "stream",
     "text": [
      "Epoch 1/3\n"
     ]
    },
    {
     "name": "stderr",
     "output_type": "stream",
     "text": [
      "C:\\Users\\catal\\anaconda3\\envs\\fashion_product_images_small\\lib\\site-packages\\keras\\src\\trainers\\data_adapters\\py_dataset_adapter.py:122: UserWarning: Your `PyDataset` class should call `super().__init__(**kwargs)` in its constructor. `**kwargs` can include `workers`, `use_multiprocessing`, `max_queue_size`. Do not pass these arguments to `fit()`, as they will be ignored.\n",
      "  self._warn_if_super_not_called()\n"
     ]
    },
    {
     "name": "stdout",
     "output_type": "stream",
     "text": [
      "\u001b[1m698/698\u001b[0m \u001b[32m━━━━━━━━━━━━━━━━━━━━\u001b[0m\u001b[37m\u001b[0m \u001b[1m810s\u001b[0m 1s/step - accuracy: 0.9284 - loss: 0.2332 - val_accuracy: 0.9862 - val_loss: 0.0583\n",
      "Epoch 2/3\n",
      "\u001b[1m  1/698\u001b[0m \u001b[37m━━━━━━━━━━━━━━━━━━━━\u001b[0m \u001b[1m5:19\u001b[0m 458ms/step - accuracy: 0.9688 - loss: 0.0373"
     ]
    },
    {
     "name": "stderr",
     "output_type": "stream",
     "text": [
      "C:\\Users\\catal\\anaconda3\\envs\\fashion_product_images_small\\lib\\contextlib.py:153: UserWarning: Your input ran out of data; interrupting training. Make sure that your dataset or generator can generate at least `steps_per_epoch * epochs` batches. You may need to use the `.repeat()` function when building your dataset.\n",
      "  self.gen.throw(typ, value, traceback)\n"
     ]
    },
    {
     "name": "stdout",
     "output_type": "stream",
     "text": [
      "\u001b[1m698/698\u001b[0m \u001b[32m━━━━━━━━━━━━━━━━━━━━\u001b[0m\u001b[37m\u001b[0m \u001b[1m1s\u001b[0m 862us/step - accuracy: 0.9688 - loss: 0.0187 - val_accuracy: 1.0000 - val_loss: 0.0044\n",
      "Epoch 3/3\n",
      "\u001b[1m698/698\u001b[0m \u001b[32m━━━━━━━━━━━━━━━━━━━━\u001b[0m\u001b[37m\u001b[0m \u001b[1m619s\u001b[0m 883ms/step - accuracy: 0.9882 - loss: 0.0418 - val_accuracy: 0.9853 - val_loss: 0.0568\n"
     ]
    }
   ],
   "source": [
    "# number of training and validation steps\n",
    "train_steps_per_epoch = len(train_data) // batch_size\n",
    "test_steps_per_epoch = len(test_data) // batch_size\n",
    "\n",
    "# model training\n",
    "history = model.fit(\n",
    "    train_generator,\n",
    "    steps_per_epoch=train_steps_per_epoch,\n",
    "    epochs=3,\n",
    "    validation_data=test_generator,\n",
    "    validation_steps=test_steps_per_epoch)"
   ]
  },
  {
   "cell_type": "markdown",
   "id": "4f2f5a20-ffbf-439c-8bd9-709b552b825e",
   "metadata": {},
   "source": [
    "**Saving the model**"
   ]
  },
  {
   "cell_type": "code",
   "execution_count": 10,
   "id": "4da7d3b0-8dba-4742-81d0-e1d413693e54",
   "metadata": {},
   "outputs": [
    {
     "name": "stdout",
     "output_type": "stream",
     "text": [
      "Saving the model as MobileNetV2_model_20042024_3epochs.keras\n"
     ]
    }
   ],
   "source": [
    "model.save('MobileNetV2_model_20042024_3epochs.keras')\n",
    "print(\"Saving the model as MobileNetV2_model_20042024_3epochs.keras\")"
   ]
  },
  {
   "cell_type": "markdown",
   "id": "230904ed-6cf4-4066-be65-ce7775f69494",
   "metadata": {},
   "source": [
    "**Model evaluation**"
   ]
  },
  {
   "cell_type": "code",
   "execution_count": 11,
   "id": "851e0f00-d853-4e07-b9a6-cdf8fd009d41",
   "metadata": {},
   "outputs": [
    {
     "name": "stdout",
     "output_type": "stream",
     "text": [
      "\u001b[1m174/174\u001b[0m \u001b[32m━━━━━━━━━━━━━━━━━━━━\u001b[0m\u001b[37m\u001b[0m \u001b[1m77s\u001b[0m 441ms/step - accuracy: 0.9829 - loss: 0.0658\n",
      "Test Loss: 0.05677345022559166\n",
      "Test Accuracy: 0.985273003578186\n",
      "\u001b[1m175/175\u001b[0m \u001b[32m━━━━━━━━━━━━━━━━━━━━\u001b[0m\u001b[37m\u001b[0m \u001b[1m83s\u001b[0m 463ms/step\n",
      "Classification Report:\n",
      "              precision    recall  f1-score   support\n",
      "\n",
      "           0       0.99      0.96      0.97       553\n",
      "           1       0.99      0.98      0.98       489\n",
      "           2       0.75      0.71      0.73        79\n",
      "           3       1.00      1.00      1.00      1875\n",
      "           4       0.98      0.99      0.99      2591\n",
      "\n",
      "    accuracy                           0.99      5587\n",
      "   macro avg       0.94      0.93      0.93      5587\n",
      "weighted avg       0.99      0.99      0.99      5587\n",
      "\n",
      "AUC-ROC Score (ovr): 0.9969368217416772\n",
      "AUC-ROC Score (ovo): 0.9962549465025153\n"
     ]
    }
   ],
   "source": [
    "test_loss, test_accuracy = model.evaluate(test_generator, steps=test_steps_per_epoch)\n",
    "print(\"Test Loss:\", test_loss)\n",
    "print(\"Test Accuracy:\", test_accuracy)\n",
    "\n",
    "# predicting the probabilities for the test set\n",
    "y_pred_proba = model.predict(test_generator)\n",
    "\n",
    "# converting the probabilities to class predictions\n",
    "y_pred = np.argmax(y_pred_proba, axis=1)\n",
    "\n",
    "# getting the true labels\n",
    "y_true = test_generator.classes\n",
    "\n",
    "# computing the precision, recall, f1-score, support\n",
    "print(\"Classification Report:\")\n",
    "print(classification_report(y_true, y_pred))\n",
    "\n",
    "# computing the AUC-ROC score with the multi_class='ovr'\n",
    "auc_roc = roc_auc_score(y_true, y_pred_proba, multi_class='ovr')\n",
    "print(\"AUC-ROC Score (ovr):\", auc_roc)\n",
    "\n",
    "# computing the AUC-ROC score with the multi_class='ovo'\n",
    "auc_roc_ovo = roc_auc_score(y_true, y_pred_proba, multi_class='ovo')\n",
    "print(\"AUC-ROC Score (ovo):\", auc_roc_ovo)"
   ]
  },
  {
   "cell_type": "markdown",
   "id": "0ae53066-216a-4d9f-b8a7-583486382b7a",
   "metadata": {},
   "source": [
    "**Accuracy per subcategory**"
   ]
  },
  {
   "cell_type": "code",
   "execution_count": 12,
   "id": "eda347aa-5fc9-4bf4-b931-e9f456617012",
   "metadata": {},
   "outputs": [
    {
     "name": "stdout",
     "output_type": "stream",
     "text": [
      "\u001b[1m175/175\u001b[0m \u001b[32m━━━━━━━━━━━━━━━━━━━━\u001b[0m\u001b[37m\u001b[0m \u001b[1m83s\u001b[0m 474ms/step\n",
      "Accuracy for subcategory 'Bags': 0.9566003616636528\n",
      "Accuracy for subcategory 'Bottomwear': 0.9754601226993865\n",
      "Accuracy for subcategory 'Dress': 0.7088607594936709\n",
      "Accuracy for subcategory 'Shoes': 0.9973333333333333\n",
      "Accuracy for subcategory 'Topwear': 0.9930528753377075\n"
     ]
    },
    {
     "data": {
      "image/png": "[encoded data removed]",
      "text/plain": [
       "<Figure size 640x480 with 1 Axes>"
      ]
     },
     "metadata": {},
     "output_type": "display_data"
    }
   ],
   "source": [
    "# converting the class_labels to a list\n",
    "class_labels = list(train_generator.class_indices.keys())\n",
    "\n",
    "# predicting the probabilities for the test set\n",
    "predictions = model.predict(test_generator)\n",
    "\n",
    "# getting the predicted labels for each image\n",
    "predicted_labels = [class_labels[i] for i in np.argmax(predictions, axis=1)]\n",
    "\n",
    "# getting the true labels for each image\n",
    "true_labels = [class_labels[i] for i in test_generator.classes]\n",
    "\n",
    "# initializing a dictionary to store the counts of the correct predictions and the total counts for each subcategory\n",
    "subcategory_counts = {class_label: [0, 0] for class_label in class_labels}\n",
    "\n",
    "# iterating through each prediction and updating the counts\n",
    "for true_label, predicted_label in zip(true_labels, predicted_labels):\n",
    "    subcategory_counts[true_label][1] += 1\n",
    "    if true_label == predicted_label:\n",
    "        subcategory_counts[true_label][0] += 1\n",
    "\n",
    "# computing the accuracy for each subcategory\n",
    "subcategory_accuracies = {class_label: (count[0] / count[1]) if count[1] != 0 else 0 for class_label, count in subcategory_counts.items()}\n",
    "\n",
    "# displaying the accuracy per subcategory\n",
    "for class_label, accuracy in subcategory_accuracies.items():\n",
    "    print(f\"Accuracy for subcategory '{class_label}': {accuracy}\")\n",
    "\n",
    "# plotting the accuracy per subcategory\n",
    "plt.bar(subcategory_accuracies.keys(), subcategory_accuracies.values())\n",
    "plt.xlabel('Subcategory')\n",
    "plt.ylabel('Accuracy')\n",
    "plt.title('Accuracy per Subcategory')\n",
    "plt.xticks(rotation=45)\n",
    "plt.show()\n"
   ]
  },
  {
   "cell_type": "markdown",
   "id": "e0b79dca-d7a8-4cca-a36f-812e17d91687",
   "metadata": {},
   "source": [
    "**Predict the label and accuracy of an external image**"
   ]
  },
  {
   "cell_type": "code",
   "execution_count": 3,
   "id": "5e289aa5-4fa9-4e05-9b10-519b0b5d4b53",
   "metadata": {},
   "outputs": [
    {
     "ename": "NameError",
     "evalue": "name 'model' is not defined",
     "output_type": "error",
     "traceback": [
      "\u001b[1;31m---------------------------------------------------------------------------\u001b[0m",
      "\u001b[1;31mNameError\u001b[0m                                 Traceback (most recent call last)",
      "Cell \u001b[1;32mIn[3], line 38\u001b[0m\n\u001b[0;32m     34\u001b[0m images_data \u001b[38;5;241m=\u001b[39m parse_images_in_folder(images_folder_path)\n\u001b[0;32m     36\u001b[0m \u001b[38;5;28;01mfor\u001b[39;00m image_path, preprocessed_image \u001b[38;5;129;01min\u001b[39;00m images_data:\n\u001b[0;32m     37\u001b[0m     \u001b[38;5;66;03m# Predict category and confidence for the image\u001b[39;00m\n\u001b[1;32m---> 38\u001b[0m     predicted_label, confidence, img_array \u001b[38;5;241m=\u001b[39m predict_image_category_with_dynamic_labels(image_path, \u001b[43mmodel\u001b[49m, train_generator)\n\u001b[0;32m     40\u001b[0m     \u001b[38;5;66;03m# Display the image along with predicted category and confidence\u001b[39;00m\n\u001b[0;32m     41\u001b[0m     plt\u001b[38;5;241m.\u001b[39mimshow(img_array[\u001b[38;5;241m0\u001b[39m])\n",
      "\u001b[1;31mNameError\u001b[0m: name 'model' is not defined"
     ]
    }
   ],
   "source": [
    "# function to make predictions with dynamically generated category labels\n",
    "def predict_image_category_with_dynamic_labels(image_path, model, train_generator):\n",
    "    img_array = preprocess_image(image_path)\n",
    "    predictions = model.predict(img_array)\n",
    "\n",
    "    # getting the index of the class with highest probability\n",
    "    predicted_class = np.argmax(predictions[0])  \n",
    "    \n",
    "    # generating a mapping of class indices to category labels\n",
    "    class_labels = {i: label for i, label in enumerate(train_generator.class_indices.keys())}\n",
    "\n",
    "    # getting the corresponding label using the class index\n",
    "    predicted_label = class_labels[predicted_class]  \n",
    "\n",
    "    # computing the confidence score of the prediction\n",
    "    confidence = predictions[0][predicted_class]  \n",
    "    \n",
    "    return predicted_label, confidence, img_array\n",
    "\n",
    "def preprocess_image(image_path, target_size=(224, 224)):\n",
    "    img = load_img(image_path, target_size=target_size)\n",
    "    img_array = img_to_array(img)\n",
    "    img_array = np.expand_dims(img_array, axis=0)  \n",
    "    img_array /= 255.0  \n",
    "    return img_array\n",
    "\n",
    "def parse_images_in_folder(folder_path):\n",
    "    image_files = [f for f in os.listdir(folder_path) if f.endswith(('.jpg', '.webp', '.hpg', '.png'))]\n",
    "    images_data = []\n",
    "    for file in image_files:\n",
    "        image_path = os.path.join(folder_path, file)\n",
    "        preprocessed_image = preprocess_image(image_path)\n",
    "        images_data.append((image_path, preprocessed_image)) \n",
    "    return images_data\n",
    "\n",
    "\n",
    "images_folder_path = '../../clothing_test_dataset/'\n",
    "\n",
    "images_data = parse_images_in_folder(images_folder_path)\n",
    "\n",
    "for image_path, preprocessed_image in images_data:\n",
    "    # predicting the category and the confidence for the image\n",
    "    predicted_label, confidence, img_array = predict_image_category_with_dynamic_labels(image_path, model, train_generator)\n",
    "    \n",
    "    # displaying the image along with the predicted category and confidence\n",
    "    plt.imshow(img_array[0])\n",
    "    plt.title(f'Predicted Category: {predicted_label}\\nConfidence: {confidence:.4f}')\n",
    "    plt.axis('off')\n",
    "    plt.show()\n"
   ]
  },
  {
   "cell_type": "code",
   "execution_count": null,
   "id": "8324ccdf-3798-4611-be1f-051ff3aa2399",
   "metadata": {},
   "outputs": [],
   "source": []
  }
 ],
 "metadata": {
  "kernelspec": {
   "display_name": "Python 3 (ipykernel)",
   "language": "python",
   "name": "python3"
  },
  "language_info": {
   "codemirror_mode": {
    "name": "ipython",
    "version": 3
   },
   "file_extension": ".py",
   "mimetype": "text/x-python",
   "name": "python",
   "nbconvert_exporter": "python",
   "pygments_lexer": "ipython3",
   "version": "3.10.13"
  }
 },
 "nbformat": 4,
 "nbformat_minor": 5
}
